{
 "cells": [
  {
   "cell_type": "code",
   "execution_count": 37,
   "metadata": {},
   "outputs": [],
   "source": [
    "import requests, time, json\n",
    "from bs4 import BeautifulSoup"
   ]
  },
  {
   "cell_type": "code",
   "execution_count": 41,
   "metadata": {},
   "outputs": [
    {
     "data": {
      "text/plain": [
       "192"
      ]
     },
     "execution_count": 41,
     "metadata": {},
     "output_type": "execute_result"
    }
   ],
   "source": [
    "with open('2018-08-09_stories_list.json','r') as f:\n",
    "    storylist = json.load(f)\n",
    "f.close\n",
    "len(storylist['stories'])"
   ]
  },
  {
   "cell_type": "code",
   "execution_count": 42,
   "metadata": {},
   "outputs": [
    {
     "data": {
      "text/plain": [
       "{'createdAt': 1533626576651,\n",
       " 'internalReferrerViews': 0,\n",
       " 'creatorId': 'ca09b47c1f3e',\n",
       " 'title': '使用者與產品的初次約會（上篇） — 理論與心法',\n",
       " 'createdAtTime': '2018-08-07 15:22:57',\n",
       " 'dataUpdateAt': '2018-08-09 11:45:18',\n",
       " 'readingTime': 1.5198113207547168,\n",
       " 'slug': '使用者與產品的初次約會-上篇-理論與心法',\n",
       " 'firstPublishedAtBucket': 'August 2018',\n",
       " 'creatorUrl': 'http://medium.com/u/ca09b47c1f3e',\n",
       " 'claps': 1108,\n",
       " 'tags': ['設計', '設計思考', 'ux', '产品设计', '成長駭客'],\n",
       " 'postId': 'ba932933d048',\n",
       " 'views': 830,\n",
       " 'firstPublishedAtTime': '2018-08-07 15:58:50',\n",
       " 'latestPublishedAtTime': '2018-08-08 01:54:08',\n",
       " 'reads': 321,\n",
       " 'upvotes': 89,\n",
       " 'firstPublishedAt': 1533628729900,\n",
       " 'url': 'http://medium.com/p/ba932933d048',\n",
       " 'friendsLinkViews': 0,\n",
       " 'collectionId': '1e6cb3374f6'}"
      ]
     },
     "execution_count": 42,
     "metadata": {},
     "output_type": "execute_result"
    }
   ],
   "source": [
    "storylist['stories'][0]"
   ]
  },
  {
   "cell_type": "code",
   "execution_count": 74,
   "metadata": {},
   "outputs": [],
   "source": [
    "def saveAllStoriesFromlist():\n",
    "    for story in storylist['stories']:\n",
    "        url = story['url']\n",
    "        res = requests.get(url)\n",
    "        h = res.text\n",
    "        soup = BeautifulSoup(h, 'html.parser')\n",
    "\n",
    "        article_content = ''\n",
    "\n",
    "        # section_content = soup.find('div','section-content')\n",
    "        # 抓取 p 段落的文字（有空可以修正內容）\n",
    "        p_content = soup.find_all('p')\n",
    "\n",
    "        # article_content += section_content.text\n",
    "        for p in p_content:\n",
    "            article_content += p.text\n",
    "\n",
    "        title = story['slug']\n",
    "        content = article_content\n",
    "\n",
    "        with open('stories/' + title +'.txt','w') as f:\n",
    "            f.write(article_content)\n",
    "        f.close()\n",
    "\n",
    "        time.sleep(10)"
   ]
  },
  {
   "cell_type": "code",
   "execution_count": null,
   "metadata": {},
   "outputs": [],
   "source": []
  }
 ],
 "metadata": {
  "kernelspec": {
   "display_name": "Python 3",
   "language": "python",
   "name": "python3"
  },
  "language_info": {
   "codemirror_mode": {
    "name": "ipython",
    "version": 3
   },
   "file_extension": ".py",
   "mimetype": "text/x-python",
   "name": "python",
   "nbconvert_exporter": "python",
   "pygments_lexer": "ipython3",
   "version": "3.6.6"
  }
 },
 "nbformat": 4,
 "nbformat_minor": 2
}
