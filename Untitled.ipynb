{
 "cells": [
  {
   "cell_type": "code",
   "execution_count": 1,
   "metadata": {},
   "outputs": [],
   "source": [
    "import jieba\n",
    "import jieba.analyse\n",
    "import sys, math, os\n",
    "from os.path import isfile, join\n",
    "from os import walk, listdir\n",
    "import numpy as np\n",
    "\n",
    "#繁簡轉換\n",
    "from langconv import *\n",
    "\n",
    "from sklearn import feature_extraction\n",
    "from sklearn.feature_extraction.text import CountVectorizer \n",
    "from sklearn.feature_extraction.text import TfidfTransformer\n",
    "from sklearn.metrics.pairwise import cosine_similarity"
   ]
  },
  {
   "cell_type": "code",
   "execution_count": 5,
   "metadata": {},
   "outputs": [],
   "source": [
    "b = np.loadtxt('trained_weight.txt')"
   ]
  },
  {
   "cell_type": "code",
   "execution_count": 6,
   "metadata": {},
   "outputs": [
    {
     "data": {
      "text/plain": [
       "193"
      ]
     },
     "execution_count": 6,
     "metadata": {},
     "output_type": "execute_result"
    }
   ],
   "source": [
    "len(b)"
   ]
  },
  {
   "cell_type": "code",
   "execution_count": 8,
   "metadata": {},
   "outputs": [
    {
     "data": {
      "text/plain": [
       "numpy.ndarray"
      ]
     },
     "execution_count": 8,
     "metadata": {},
     "output_type": "execute_result"
    }
   ],
   "source": []
  },
  {
   "cell_type": "code",
   "execution_count": 9,
   "metadata": {},
   "outputs": [],
   "source": [
    "def getStories(weight_all, weight_q):\n",
    "\n",
    "    highests = {'a':0}\n",
    "\n",
    "    for index, vector in enumerate(weight_all):    \n",
    "        vs = cosine_similarity([weight_q[0],vector])\n",
    "        sim = vs[0,1]\n",
    "        min_in_highests_key = min(highests,key = highests.get)\n",
    "        min_in_highests = highests[min_in_highests_key]\n",
    "        # print(min_in_highests_key,min_in_highests)\n",
    "        if sim > min_in_highests:\n",
    "            highests[index] = sim\n",
    "            if len(highests) > 1:\n",
    "                highests.pop(min_in_highests_key)\n",
    "        else:\n",
    "            continue\n",
    "    # print(highests)\n",
    "    for h in highests:\n",
    "        highests[h] = np.float64(highests[h]).item()\n",
    "        print(h, highests[h], sl[h])\n",
    "# user 的搜尋語句\n",
    "def userquery(q):\n",
    "    q_words_cut = jieba.cut(q,cut_all='True')\n",
    "    q_words_string = ''\n",
    "    for word in q_words_cut:\n",
    "        q_words_string += word\n",
    "        q_words_string += ' '\n",
    "\n",
    "    q_words = [q_words_string]\n",
    "    # print(q_words)\n",
    "\n",
    "    q_tfidf = vectorizer.transform(q_words).toarray()\n",
    "    return q_tfidf"
   ]
  },
  {
   "cell_type": "code",
   "execution_count": null,
   "metadata": {},
   "outputs": [],
   "source": []
  }
 ],
 "metadata": {
  "kernelspec": {
   "display_name": "Python 3",
   "language": "python",
   "name": "python3"
  },
  "language_info": {
   "codemirror_mode": {
    "name": "ipython",
    "version": 3
   },
   "file_extension": ".py",
   "mimetype": "text/x-python",
   "name": "python",
   "nbconvert_exporter": "python",
   "pygments_lexer": "ipython3",
   "version": "3.6.6"
  }
 },
 "nbformat": 4,
 "nbformat_minor": 2
}
